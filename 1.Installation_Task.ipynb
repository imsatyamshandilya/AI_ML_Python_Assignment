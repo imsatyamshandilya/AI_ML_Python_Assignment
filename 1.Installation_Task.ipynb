{
 "cells": [
  {
   "cell_type": "markdown",
   "id": "38639be2",
   "metadata": {},
   "source": [
    "   ## Task- 1   Installation Task"
   ]
  },
  {
   "cell_type": "markdown",
   "id": "1628310f",
   "metadata": {},
   "source": [
    "**Q1.  Install Python on your Local Operating System**\n",
    "\n",
    "        a. https://youtu.be/M5ILgNI0iXw (python installation)\n",
    "        b. https://youtu.be/SBOFnzVuzOE (vim Editor)"
   ]
  },
  {
   "cell_type": "markdown",
   "id": "ca144c53",
   "metadata": {},
   "source": [
    "**Q2. List Some Mega Projects hosted in Python**\n",
    "\n",
    "        • Database Projects: Management Systems (Library, Hotel, Hospital, School)\n",
    "        • ML Projects: Classification\n",
    "        • AI Projects: Chatbots, face detection and recognition, speech recognition, Security\n",
    "        • Data Science Projects: Global Terrorism Analysis, Call Data Record Analysis\n"
   ]
  },
  {
   "cell_type": "markdown",
   "id": "c7496431",
   "metadata": {},
   "source": [
    "**Q3. List Python Libraries Used in Different IT Domains**\n",
    "\n",
    "        Pandas, numpy, matplotlib, tkinter, sklearn, tensorflow\n"
   ]
  },
  {
   "cell_type": "markdown",
   "id": "2830182e",
   "metadata": {},
   "source": [
    "**Q4. Create a Program and execute a script in Python**"
   ]
  },
  {
   "cell_type": "code",
   "execution_count": 2,
   "id": "040cea08",
   "metadata": {},
   "outputs": [
    {
     "name": "stdout",
     "output_type": "stream",
     "text": [
      "Hello World\n",
      "Sum is : 50\n"
     ]
    }
   ],
   "source": [
    "print('Hello World')\n",
    "a = 45\n",
    "b = 5\n",
    "c = a+b\n",
    "print('Sum is :', c)"
   ]
  }
 ],
 "metadata": {
  "kernelspec": {
   "display_name": "Python 3 (ipykernel)",
   "language": "python",
   "name": "python3"
  },
  "language_info": {
   "codemirror_mode": {
    "name": "ipython",
    "version": 3
   },
   "file_extension": ".py",
   "mimetype": "text/x-python",
   "name": "python",
   "nbconvert_exporter": "python",
   "pygments_lexer": "ipython3",
   "version": "3.10.9"
  }
 },
 "nbformat": 4,
 "nbformat_minor": 5
}
