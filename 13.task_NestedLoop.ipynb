{
 "cells": [
  {
   "cell_type": "markdown",
   "id": "13649ecf",
   "metadata": {},
   "source": [
    "## Task- 13 Task Nested Loop"
   ]
  },
  {
   "cell_type": "markdown",
   "id": "9758da65",
   "metadata": {},
   "source": [
    "**Q1. Write a Python Code to count the Number of Each Vowel in a given string**"
   ]
  },
  {
   "cell_type": "code",
   "execution_count": 13,
   "id": "0b4476d0",
   "metadata": {},
   "outputs": [
    {
     "name": "stdout",
     "output_type": "stream",
     "text": [
      "Enter a string: I am Satyam Tiwary\n",
      "No of a: 4\n",
      "No of e: 0\n",
      "No of i: 2\n",
      "No of o: 0\n",
      "No of u: 0\n"
     ]
    }
   ],
   "source": [
    "str=input('Enter a string: ')\n",
    "a=e=c=o=u=0\n",
    "for i in str:\n",
    "    if i in 'aA':\n",
    "        a+=1\n",
    "    elif i in 'eE':\n",
    "        e+=1\n",
    "    elif i in 'iI':\n",
    "        c+=1\n",
    "    elif i in 'oO':\n",
    "        o+=1\n",
    "    elif i in 'uU':\n",
    "        u+=1\n",
    "print('No of a:',a)\n",
    "print('No of e:',e)\n",
    "print('No of i:',c)\n",
    "print('No of o:',o)\n",
    "print('No of u:',u)"
   ]
  },
  {
   "cell_type": "markdown",
   "id": "a1c347b0",
   "metadata": {},
   "source": [
    "**Q2. Write a Python Code to count number of words, characters and number of spaces in a given stirng**"
   ]
  },
  {
   "cell_type": "code",
   "execution_count": 12,
   "id": "b177be7b",
   "metadata": {},
   "outputs": [
    {
     "name": "stdout",
     "output_type": "stream",
     "text": [
      "Enter a string: I am Satyam Tiwary\n",
      "No of words: 4\n",
      "No of Character: 15\n",
      "No of Spaces: 3\n"
     ]
    }
   ],
   "source": [
    "str=input('Enter a string: ')\n",
    "w=c=s=0\n",
    "l=str.split()\n",
    "for i in l: \n",
    "    w+=1\n",
    "for i in str:\n",
    "    if i==' ':\n",
    "        s+=1\n",
    "    else:\n",
    "        c+=1\n",
    "print('No of words:',w)\n",
    "print('No of Character:',c)\n",
    "print('No of Spaces:',s)"
   ]
  },
  {
   "cell_type": "markdown",
   "id": "a0728d85",
   "metadata": {},
   "source": [
    "**Q3. Write a Python Program to remove punctuation from a given string (using loop)**"
   ]
  },
  {
   "cell_type": "code",
   "execution_count": 17,
   "id": "739006e7",
   "metadata": {},
   "outputs": [
    {
     "name": "stdout",
     "output_type": "stream",
     "text": [
      "Enter a string: Satyam#$%&*3456Tiwary!@#\n",
      "\n",
      "Original String: Satyam#$%&*3456Tiwary!@#\n",
      "\n",
      "After removing punctuation: Satyam3456Tiwary\n"
     ]
    }
   ],
   "source": [
    "str=input('Enter a string: ')\n",
    "print('\\nOriginal String:',str)\n",
    "punc='''!()-[]}{;:'\"\\,<>./?@#$%^&*_~'''\n",
    "for i in str:\n",
    "    if i in punc:\n",
    "        str=str.replace(i,'')\n",
    "print('\\nAfter removing punctuation:',str)"
   ]
  },
  {
   "cell_type": "markdown",
   "id": "46cf029c",
   "metadata": {},
   "source": [
    "**Q4. Write a Python Program to take a m x n matrix input from user and stored in nested list**"
   ]
  },
  {
   "cell_type": "code",
   "execution_count": 18,
   "id": "599369ad",
   "metadata": {},
   "outputs": [
    {
     "name": "stdout",
     "output_type": "stream",
     "text": [
      "Enter no of columns: 2\n",
      "Enter no of rows: 3\n",
      "Enter numbers for column  1\n",
      "1\n",
      "2\n",
      "Enter numbers for column  2\n",
      "3\n",
      "4\n",
      "Enter numbers for column  3\n",
      "5\n",
      "6\n",
      "[[1, 2], [3, 4], [5, 6]]\n"
     ]
    }
   ],
   "source": [
    "matrix=[]\n",
    "m=int(input('Enter no of columns: '))\n",
    "n=int(input('Enter no of rows: '))\n",
    "for i in range(0,n):\n",
    "    a=[]\n",
    "    print('Enter numbers for column ',i+1)\n",
    "    for j in range(0,m):\n",
    "        a.append(int(input()))\n",
    "    matrix.append(a)\n",
    "print(matrix)"
   ]
  },
  {
   "cell_type": "markdown",
   "id": "47f59141",
   "metadata": {},
   "source": [
    "**Q5. Write a Python Program to add, multiply and transpose two matrices given by user**"
   ]
  },
  {
   "cell_type": "code",
   "execution_count": 19,
   "id": "bc629dda",
   "metadata": {},
   "outputs": [
    {
     "name": "stdout",
     "output_type": "stream",
     "text": [
      "[[2, 2, 2], [5, 5, 5], [6, 6, 6]]\n",
      "[[3, 3, 3], [4, 4, 4], [1, 1, 1]]\n",
      "[[5, 5, 5], [9, 9, 9], [7, 7, 7]]\n",
      "[[16, 16, 16], [40, 40, 40], [48, 48, 48]]\n",
      "[[2, 5, 6], [2, 5, 6], [2, 5, 6]]\n"
     ]
    }
   ],
   "source": [
    "m1=[[2,2,2],[5,5,5],[6,6,6]]\n",
    "m2=[[3,3,3],[4,4,4],[1,1,1]]\n",
    "print(m1)\n",
    "print(m2)\n",
    "\n",
    "def add(x,y):\n",
    "    sum=[]\n",
    "    for i in range(0,3):\n",
    "        a=[]\n",
    "        for j in range(0,3):\n",
    "            a.append(x[i][j]+y[i][j])\n",
    "        sum.append(a)\n",
    "    print(sum)\n",
    "\n",
    "add(m1,m2)\n",
    "\n",
    "def mul(x,y):\n",
    "    prod=[[0,0,0],[0,0,0],[0,0,0]]\n",
    "    for i in range(len(x)):\n",
    "        for j in range(len(y[0])):\n",
    "            for k in range(len(y)):\n",
    "                prod[i][j] += x[i][k] * y[k][j]\n",
    "    print(prod)\n",
    "\n",
    "mul(m1,m2)\n",
    "\n",
    "def transpose(x):\n",
    "    result=[[0,0,0],[0,0,0],[0,0,0]]\n",
    "    for i in range(len(x)):\n",
    "        for j in range(len(x[0])):\n",
    "            result[j][i] = x[i][j]\n",
    "    print(result)\n",
    "\n",
    "transpose(m1)"
   ]
  }
 ],
 "metadata": {
  "kernelspec": {
   "display_name": "Python 3 (ipykernel)",
   "language": "python",
   "name": "python3"
  },
  "language_info": {
   "codemirror_mode": {
    "name": "ipython",
    "version": 3
   },
   "file_extension": ".py",
   "mimetype": "text/x-python",
   "name": "python",
   "nbconvert_exporter": "python",
   "pygments_lexer": "ipython3",
   "version": "3.10.9"
  }
 },
 "nbformat": 4,
 "nbformat_minor": 5
}
