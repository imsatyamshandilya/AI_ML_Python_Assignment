{
 "cells": [
  {
   "cell_type": "markdown",
   "id": "39a2c27e",
   "metadata": {},
   "source": [
    "## Task-10 Loop"
   ]
  },
  {
   "cell_type": "markdown",
   "id": "8c485b77",
   "metadata": {},
   "source": [
    "**Q1. Python Program to Check Palindrome Number**"
   ]
  },
  {
   "cell_type": "code",
   "execution_count": 14,
   "id": "82ff4339",
   "metadata": {},
   "outputs": [
    {
     "name": "stdout",
     "output_type": "stream",
     "text": [
      "Enter number:1551\n",
      "1551 is a palindrome\n"
     ]
    }
   ],
   "source": [
    "num=int(input(\"Enter number:\"))\n",
    "temp=num\n",
    "rev=0\n",
    "while(num>0):\n",
    "    dig=num%10\n",
    "    rev=rev*10+dig\n",
    "    num=num//10\n",
    "if(temp==rev):\n",
    "    print(f\"{temp} is a palindrome\")\n",
    "else:\n",
    "    print(f\"{temp} isn't a palindrome\")"
   ]
  },
  {
   "cell_type": "markdown",
   "id": "d1c3b07d",
   "metadata": {},
   "source": [
    "**Q2. Python Program to Print all multiples of 3 and 5 in an Interval**"
   ]
  },
  {
   "cell_type": "code",
   "execution_count": 15,
   "id": "0e8f2886",
   "metadata": {},
   "outputs": [
    {
     "name": "stdout",
     "output_type": "stream",
     "text": [
      "Enter Lower Range: 34\n",
      "Enter Upper Range: 89\n",
      "35, 36, 39, 40, 42, 45, 48, 50, 51, 54, 55, 57, 60, 63, 65, 66, 69, 70, 72, 75, 78, 80, 81, 84, 85, 87, "
     ]
    }
   ],
   "source": [
    "a=int(input(\"Enter Lower Range: \"))\n",
    "b=int(input(\"Enter Upper Range: \"))\n",
    "for i in range(a,b+1):\n",
    "    if(i%3==0 or i%5==0):\n",
    "        print(i,end=', ')"
   ]
  },
  {
   "cell_type": "markdown",
   "id": "6d002f8c",
   "metadata": {},
   "source": [
    "**Q3. Python Program to Find the Factorial of a Number**"
   ]
  },
  {
   "cell_type": "code",
   "execution_count": 18,
   "id": "f162aa50",
   "metadata": {},
   "outputs": [
    {
     "name": "stdout",
     "output_type": "stream",
     "text": [
      "Enter a number: 5\n",
      "Factorial = 120\n"
     ]
    }
   ],
   "source": [
    "num=int(input(\"Enter a number: \"))\n",
    "a=1\n",
    "for i in range(2,num+1):\n",
    "    a=a*i\n",
    "print(\"Factorial =\",a)"
   ]
  },
  {
   "cell_type": "markdown",
   "id": "e20cd08a",
   "metadata": {},
   "source": [
    "**Q4. Python Program to Print the Fibonacci sequence**"
   ]
  },
  {
   "cell_type": "code",
   "execution_count": 27,
   "id": "a8237515",
   "metadata": {},
   "outputs": [
    {
     "name": "stdout",
     "output_type": "stream",
     "text": [
      "Range of the Fibonacci Series: 16\n",
      "Fibonacci series: , 0, 1, 1, 2, 3, 5, 8, 13, 21, 34, 55, 89, 144, 233, 377, 610, "
     ]
    }
   ],
   "source": [
    "num=int(input(\"Range of the Fibonacci Series: \"))\n",
    "a=0\n",
    "b=1\n",
    "print(\"Fibonacci series: \",a,b,end=', ',sep=', ')\n",
    "for i in range(2,num):\n",
    "    c=a+b\n",
    "    print(c, end=', ')\n",
    "    a=b\n",
    "    b=c"
   ]
  },
  {
   "cell_type": "markdown",
   "id": "a7334001",
   "metadata": {},
   "source": [
    "**Q5. Python Program to Check Armstrong Number**"
   ]
  },
  {
   "cell_type": "code",
   "execution_count": 31,
   "id": "d327d504",
   "metadata": {},
   "outputs": [
    {
     "name": "stdout",
     "output_type": "stream",
     "text": [
      "Enter a number: 370\n",
      "370 is an Armstrong number\n"
     ]
    }
   ],
   "source": [
    "num = int(input(\"Enter a number: \"))\n",
    "sum = 0\n",
    "temp = num\n",
    "while temp > 0:\n",
    "   digit = temp % 10\n",
    "   sum += digit ** 3\n",
    "   temp //= 10\n",
    "\n",
    "if num == sum:\n",
    "   print(num,\"is an Armstrong number\")\n",
    "else:\n",
    "   print(num,\"is not an Armstrong number\")"
   ]
  }
 ],
 "metadata": {
  "kernelspec": {
   "display_name": "Python 3 (ipykernel)",
   "language": "python",
   "name": "python3"
  },
  "language_info": {
   "codemirror_mode": {
    "name": "ipython",
    "version": 3
   },
   "file_extension": ".py",
   "mimetype": "text/x-python",
   "name": "python",
   "nbconvert_exporter": "python",
   "pygments_lexer": "ipython3",
   "version": "3.10.9"
  }
 },
 "nbformat": 4,
 "nbformat_minor": 5
}
