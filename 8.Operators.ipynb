{
 "cells": [
  {
   "cell_type": "markdown",
   "id": "04f2344e",
   "metadata": {},
   "source": [
    "## Task- 8 Operator"
   ]
  },
  {
   "cell_type": "markdown",
   "id": "3188887e",
   "metadata": {},
   "source": [
    "**Q1. What are the two values of the Boolean data type? How do you write them?**\n",
    "\n",
    "   The two values of the Boolean data type are: ***True*** and ***False***.\n",
    "   \n",
    "   They are written as such: True and False."
   ]
  },
  {
   "cell_type": "markdown",
   "id": "d1872396",
   "metadata": {},
   "source": [
    "**Q2. What are the three Boolean operators?**\n",
    "\n",
    " And, Or, Not"
   ]
  },
  {
   "cell_type": "markdown",
   "id": "101dc567",
   "metadata": {},
   "source": [
    "**Q3. Write out the truth tables of each Boolean operator (that is, every possible combination of Boolean values for the operator and what they evaluate to).**"
   ]
  },
  {
   "cell_type": "markdown",
   "id": "2e2f311c",
   "metadata": {},
   "source": [
    "![image](https://global.discourse-cdn.com/codecademy/original/5X/9/2/5/e/925ecf1588b896bd5e07dfd730abfb17b4c138ee.png)"
   ]
  },
  {
   "cell_type": "markdown",
   "id": "c13b05d6",
   "metadata": {},
   "source": [
    "**Q4. What do the following expressions evaluate to?**\n",
    "\n",
    "1. (5 > 4) and (3 == 5) ---> ***False***\n",
    "2. not (5 > 4) ---> ***False***\n",
    "3. (5 > 4) or (3 == 5)\t---> ***True***\n",
    "4. not ((5 > 4) or (3 == 5)) ---> ***False***\n",
    "5. (True and True) and (True == False) ---> ***False***\n",
    "6. (not False) or (not True) ---> ***True***"
   ]
  },
  {
   "cell_type": "markdown",
   "id": "455ff056",
   "metadata": {},
   "source": [
    "**Q5. What are the six comparison operators?**\n",
    "\n",
    "    >, <, >=, <=, !=, =="
   ]
  },
  {
   "cell_type": "markdown",
   "id": "6df203e4",
   "metadata": {},
   "source": [
    "**Q6. What is the difference between the equal to operator and the assignment operator?**\n",
    "\n",
    "    = :- used to assign a value to an identifier. Does not return a value.\n",
    "    == :- used to check whether 2 identifiers have same value. Returns boolean value."
   ]
  },
  {
   "cell_type": "markdown",
   "id": "03e98a52",
   "metadata": {},
   "source": [
    "**Q7. Explain what a condition is and where you would use one.**\n",
    "\n",
    "Condition is a statement where we check whether certain criteria is fulfilled or not. We can use it to check whether a number is odd or even in if - elif - else."
   ]
  }
 ],
 "metadata": {
  "kernelspec": {
   "display_name": "Python 3 (ipykernel)",
   "language": "python",
   "name": "python3"
  },
  "language_info": {
   "codemirror_mode": {
    "name": "ipython",
    "version": 3
   },
   "file_extension": ".py",
   "mimetype": "text/x-python",
   "name": "python",
   "nbconvert_exporter": "python",
   "pygments_lexer": "ipython3",
   "version": "3.10.9"
  }
 },
 "nbformat": 4,
 "nbformat_minor": 5
}
