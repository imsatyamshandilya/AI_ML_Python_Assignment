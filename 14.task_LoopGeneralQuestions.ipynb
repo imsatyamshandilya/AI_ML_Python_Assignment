{
 "cells": [
  {
   "cell_type": "markdown",
   "id": "30002f2f",
   "metadata": {},
   "source": [
    "## Task- 14 Loop General Questions"
   ]
  },
  {
   "cell_type": "markdown",
   "id": "a85c1711",
   "metadata": {},
   "source": [
    "**Q1. Program to find the sum of digits of a number until the sum is reduced to 1 digit.**"
   ]
  },
  {
   "cell_type": "code",
   "execution_count": 18,
   "id": "a3b62bd7",
   "metadata": {},
   "outputs": [
    {
     "name": "stdout",
     "output_type": "stream",
     "text": [
      "Enter a number: 126784\n",
      "28\n",
      "10\n"
     ]
    }
   ],
   "source": [
    "num=int(input('Enter a number: '))\n",
    "while num>10:\n",
    "    m=num\n",
    "    sum=0\n",
    "    while m:\n",
    "        a=m % 10\n",
    "        sum=sum + a\n",
    "        m=m // 10\n",
    "    num=sum\n",
    "    print(sum)"
   ]
  },
  {
   "cell_type": "markdown",
   "id": "ec19bc4e",
   "metadata": {},
   "source": [
    "**Q2. Program to find LCM and HCF of two numbers**"
   ]
  },
  {
   "cell_type": "code",
   "execution_count": 14,
   "id": "f1b68e2d",
   "metadata": {},
   "outputs": [
    {
     "name": "stdout",
     "output_type": "stream",
     "text": [
      "Enter the first number: 12\n",
      "Enter the second number: 16\n",
      "\n",
      "First Number is:  12\n",
      "Second Number is:  16\n",
      "The HCF is:  4\n",
      "LCM of the two numbers is:  48\n"
     ]
    }
   ],
   "source": [
    "a = int(input(\"Enter the first number: \"))\n",
    "b = int(input(\"Enter the second number: \"))\n",
    "HCF = 1\n",
    "for i in range(2,a+1):\n",
    "    if(a%i==0 and b%i==0):\n",
    "        HCF = i\n",
    " \n",
    "print(\"\\nFirst Number is: \",a)\n",
    "print(\"Second Number is: \",b)\n",
    "print(\"The HCF is: \",HCF)\n",
    "LCM = int((a*b)/(HCF))\n",
    "print(\"LCM of the two numbers is: \",LCM)"
   ]
  },
  {
   "cell_type": "markdown",
   "id": "e363c0e7",
   "metadata": {},
   "source": [
    "**Q3- (A). Write a program to accept any number n and print the cube of all numbers from 1 to n which are divisible by 3.**"
   ]
  },
  {
   "cell_type": "code",
   "execution_count": 21,
   "id": "ba48ae94",
   "metadata": {},
   "outputs": [
    {
     "name": "stdout",
     "output_type": "stream",
     "text": [
      "Enter a number: 12\n",
      "27\n",
      "216\n",
      "729\n"
     ]
    }
   ],
   "source": [
    "n=int(input('Enter a number: '))\n",
    "for i in range(1,n):\n",
    "    if i%3==0:\n",
    "        print(i**3)"
   ]
  },
  {
   "cell_type": "markdown",
   "id": "aa649600",
   "metadata": {},
   "source": [
    "**Q3- (B). Write a program to accept any number n and print the cube of all numbers from 1 to n which are divisible by 3. Rewrite the program using a continue statement.**"
   ]
  },
  {
   "cell_type": "code",
   "execution_count": 22,
   "id": "c3ecc31c",
   "metadata": {},
   "outputs": [
    {
     "name": "stdout",
     "output_type": "stream",
     "text": [
      "Enter a number: 12\n",
      "27\n",
      "216\n",
      "729\n"
     ]
    }
   ],
   "source": [
    "n=int(input('Enter a number: '))\n",
    "for i in range(1,n):\n",
    "    if i%3!=0:\n",
    "        continue\n",
    "    else:\n",
    "        print(i**3)"
   ]
  },
  {
   "cell_type": "markdown",
   "id": "973cfbe9",
   "metadata": {},
   "source": [
    "**Q4. Write a program to read roll number and marks of 10 students in 3 subjects. The valid range for roll number is 1000-9999, if the roll number entered is not in this range, the user should be asked to enter again. Calculate total marks of only those students who get more than or equal to 40 marks in each subject. Count the number of students whose total is more than 200. Print the roll number of the students who gets the highest total.**"
   ]
  },
  {
   "cell_type": "code",
   "execution_count": 5,
   "id": "9700fc46",
   "metadata": {},
   "outputs": [
    {
     "name": "stdout",
     "output_type": "stream",
     "text": [
      "For Student: 1:-\n",
      "Enter roll no: 2105605\n",
      "Invalid Roll\n",
      "Enter roll no: 1234\n",
      "Marks for Subject: 1: 23\n",
      "Marks for Subject: 2: 56\n",
      "Marks for Subject: 3: 78\n",
      "\n",
      "For Student: 2:-\n",
      "Enter roll no: 1289\n",
      "Marks for Subject: 1: 56\n",
      "Marks for Subject: 2: 78\n",
      "Marks for Subject: 3: 90\n",
      "\n",
      "For Student: 3:-\n",
      "Enter roll no: 3278\n",
      "Marks for Subject: 1: 89\n",
      "Marks for Subject: 2: 88\n",
      "Marks for Subject: 3: 88\n",
      "\n",
      "For Student: 4:-\n",
      "Enter roll no: 5648\n",
      "Marks for Subject: 1: 90\n",
      "Marks for Subject: 2: 98\n",
      "Marks for Subject: 3: 97\n",
      "\n",
      "For Student: 5:-\n",
      "Enter roll no: 9045\n",
      "Marks for Subject: 1: 45\n",
      "Marks for Subject: 2: 33\n",
      "Marks for Subject: 3: 33\n",
      "\n",
      "For Student: 6:-\n",
      "Enter roll no: 6743\n",
      "Marks for Subject: 1: 90\n",
      "Marks for Subject: 2: 78\n",
      "Marks for Subject: 3: 90\n",
      "\n",
      "For Student: 7:-\n",
      "Enter roll no: 1209\n",
      "Marks for Subject: 1: 89\n",
      "Marks for Subject: 2: 89\n",
      "Marks for Subject: 3: 89\n",
      "\n",
      "For Student: 8:-\n",
      "Enter roll no: 1111\n",
      "Marks for Subject: 1: 90\n",
      "Marks for Subject: 2: 97\n",
      "Marks for Subject: 3: 99\n",
      "\n",
      "For Student: 9:-\n",
      "Enter roll no: 3490\n",
      "Marks for Subject: 1: 66\n",
      "Marks for Subject: 2: 45\n",
      "Marks for Subject: 3: 89\n",
      "\n",
      "For Student: 10:-\n",
      "Enter roll no: 8750\n",
      "Marks for Subject: 1: 87\n",
      "Marks for Subject: 2: 56\n",
      "Marks for Subject: 3: 34\n",
      "\n",
      "Results = \n",
      "[(1289, [56, 78, 90]), (3278, [89, 88, 88]), (5648, [90, 98, 97]), (6743, [90, 78, 90]), (1209, [89, 89, 89]), (1111, [90, 97, 99]), (3490, [66, 45, 89])]\n",
      "No of students with total marks > 200: 6\n",
      "Roll no of student with highest total marks: 1111\n"
     ]
    }
   ],
   "source": [
    "def rollno(roll):\n",
    "    if roll>=1000 and roll<=9999:\n",
    "        return True\n",
    "    else:\n",
    "        return False\n",
    "    \n",
    "def calcmark(marks):\n",
    "    total=sum(marks)\n",
    "    return total\n",
    "\n",
    "data=[]\n",
    "hightotal=0\n",
    "highrollno=0\n",
    "counttotal200=0\n",
    "\n",
    "for i in range(0,10):\n",
    "    print(f\"For Student: {i+1}:-\")\n",
    "    while True:\n",
    "        roll=int(input('Enter roll no: '))\n",
    "        if rollno(roll):\n",
    "            break\n",
    "        else:\n",
    "            print('Invalid Roll')\n",
    "    \n",
    "    marks=[]\n",
    "    for j in range(0,3):\n",
    "        marks.append(int(input(f'Marks for Subject: {j+1}: ')))\n",
    "    print()\n",
    "\n",
    "    if all(mark>=40 for mark in marks):\n",
    "        totmark=calcmark(marks)\n",
    "\n",
    "        if totmark>200:\n",
    "            counttotal200+=1\n",
    "\n",
    "        if totmark>hightotal:\n",
    "            hightotal=totmark\n",
    "            highrollno=roll\n",
    "\n",
    "        data.append((roll,marks))\n",
    "\n",
    "print('Results = ')\n",
    "print(data)\n",
    "print(f'No of students with total marks > 200: {counttotal200}')\n",
    "print(f'Roll no of student with highest total marks: {highrollno}')"
   ]
  },
  {
   "cell_type": "markdown",
   "id": "86af3518",
   "metadata": {},
   "source": [
    "**Q5. Write a program to input a number and count the digits in it. Use while loop and the program should work correctly for 0 also**"
   ]
  },
  {
   "cell_type": "code",
   "execution_count": 4,
   "id": "be62229b",
   "metadata": {},
   "outputs": [
    {
     "name": "stdout",
     "output_type": "stream",
     "text": [
      "Enter a number: 7490663437484\n",
      "No of digits:  13\n"
     ]
    }
   ],
   "source": [
    "num=int(input('Enter a number: '))\n",
    "count=0\n",
    "if num==0:\n",
    "    print('No of digits: ',1)\n",
    "else:\n",
    "    while num:\n",
    "        count+=1\n",
    "        num=num//10\n",
    "print('No of digits: ',count)"
   ]
  },
  {
   "cell_type": "markdown",
   "id": "edde0f9a",
   "metadata": {},
   "source": [
    "**Q6. Write a program to enter a number and find the reverse of that number. Also display the double of the reverse number. (don’t use string magic)**"
   ]
  },
  {
   "cell_type": "code",
   "execution_count": 2,
   "id": "81af7be6",
   "metadata": {},
   "outputs": [
    {
     "name": "stdout",
     "output_type": "stream",
     "text": [
      "Enter a no: 12345\n",
      "The reversed no is:  54321\n",
      "The double of reversed no:  108642\n"
     ]
    }
   ],
   "source": [
    "num=int(input(\"Enter a no: \"))\n",
    "rev=0\n",
    "while num:\n",
    "    a=num%10\n",
    "    rev=rev*10+a\n",
    "    num=num//10\n",
    "print('The reversed no is: ',rev)\n",
    "print('The double of reversed no: ',2*rev)"
   ]
  }
 ],
 "metadata": {
  "kernelspec": {
   "display_name": "Python 3 (ipykernel)",
   "language": "python",
   "name": "python3"
  },
  "language_info": {
   "codemirror_mode": {
    "name": "ipython",
    "version": 3
   },
   "file_extension": ".py",
   "mimetype": "text/x-python",
   "name": "python",
   "nbconvert_exporter": "python",
   "pygments_lexer": "ipython3",
   "version": "3.10.9"
  }
 },
 "nbformat": 4,
 "nbformat_minor": 5
}
