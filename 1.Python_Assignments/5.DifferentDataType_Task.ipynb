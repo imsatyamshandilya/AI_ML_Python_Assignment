{
 "cells": [
  {
   "cell_type": "markdown",
   "id": "1e5c43f6",
   "metadata": {},
   "source": [
    "## Task- 5 Different Data Type"
   ]
  },
  {
   "cell_type": "markdown",
   "id": "d62a9aea",
   "metadata": {},
   "source": [
    "**Q1. What is difference between shallow copy and deep copy?**\n",
    "\n",
    "  **Shallow Copy :**\n",
    "   \n",
    "A bitwise copy of an object, where a new object is created and it has the same copy of the values in the original object, is called a Shallow copy\n",
    "        New = nums.copy()\n",
    "        \n",
    "    new = nums.copy()\n",
    "\n",
    "**Deep Copy :**\n",
    "\n",
    "When the process of copying occurs repetitively and a copy of the object is always copied in another object, then it is called deep copy.\n",
    "\n",
    "    new = copy.deepcopy(nums)"
   ]
  },
  {
   "cell_type": "code",
   "execution_count": 4,
   "id": "3c425c71",
   "metadata": {},
   "outputs": [
    {
     "name": "stdout",
     "output_type": "stream",
     "text": [
      "list2 ID:  2221622566912 Value:  [1, 2, [3, 5], 4]\n",
      "list3 ID:  2221622736768 Value:  [1, 2, [3, 5], 4]\n"
     ]
    }
   ],
   "source": [
    "import copy\n",
    "list1 = [1, 2, [3, 5], 4]\n",
    "\n",
    "# shallow copy\n",
    "list2 = copy.copy(list1)\n",
    "print(\"list2 ID: \", id(list2), \"Value: \", list2)\n",
    "\n",
    "# deep copy\n",
    "list3 = copy.deepcopy(list1)\n",
    "print(\"list3 ID: \", id(list3), \"Value: \", list3)\n"
   ]
  },
  {
   "cell_type": "markdown",
   "id": "3a15d57e",
   "metadata": {},
   "source": [
    "**Q2. You want to create a library management application, you need to store data about books, students in your program, how will you store data inside python using list? Create some lists with fake data to store information about library management.**\n",
    "\n",
    "     Data = [ [1, 'Pranav' ,'The Jungle Book'],\n",
    "         [2, 'Ayush', 'The brify history of Time'],\n",
    "         [3, 'Arpit', 'Something i never told you'] ]"
   ]
  },
  {
   "cell_type": "markdown",
   "id": "3786fb33",
   "metadata": {},
   "source": [
    "**Q3. What is the difference between an expression and a statement?**\n",
    "\n",
    "**Expression** can be any combination of value, symbol, character.\n",
    "\n",
    "However when that expression is stored or assigned to someone it becomes a **Statement**."
   ]
  },
  {
   "cell_type": "markdown",
   "id": "4b32264a",
   "metadata": {},
   "source": [
    "**Q4. Define following:-**\n",
    "\n",
    "* Atomic data types / Primary data types\n",
    "\n",
    "        These are the simplest form of data that cannot be broken down to any more simpler data. \n",
    "        Ex - integer, boolean, float.\n",
    "    \n",
    "\n",
    "* Secondary data type / User Defined Data Type\n",
    "\n",
    "        These are made through a collection of atomic data types.\n",
    "        Ex - list, string, set, dictionary."
   ]
  },
  {
   "cell_type": "markdown",
   "id": "470446a1",
   "metadata": {},
   "source": [
    "**Q5. What is UDF?**\n",
    "\n",
    "User Defined Function is a function that is made by the user and can be used by only him."
   ]
  }
 ],
 "metadata": {
  "kernelspec": {
   "display_name": "Python 3 (ipykernel)",
   "language": "python",
   "name": "python3"
  },
  "language_info": {
   "codemirror_mode": {
    "name": "ipython",
    "version": 3
   },
   "file_extension": ".py",
   "mimetype": "text/x-python",
   "name": "python",
   "nbconvert_exporter": "python",
   "pygments_lexer": "ipython3",
   "version": "3.10.9"
  }
 },
 "nbformat": 4,
 "nbformat_minor": 5
}
