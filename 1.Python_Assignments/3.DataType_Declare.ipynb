{
 "cells": [
  {
   "cell_type": "markdown",
   "id": "28950350",
   "metadata": {},
   "source": [
    "### Task- 3  DataType Declare"
   ]
  },
  {
   "cell_type": "markdown",
   "id": "2f7c9a8a",
   "metadata": {},
   "source": [
    "**Q1. What are Data Structures? List some of data structures and their use in real world application?**\n",
    "\n",
    "A data structure is a specialized format for organizing, processing, retrieving and storing data.\n",
    "\n",
    "**List of some data structure :**\n",
    "\n",
    "\n",
    "**Application**\n",
    "1. Array\n",
    "2. Linklist\n",
    "3. Tree\n",
    "4. Stack and Queue\n",
    "5. Graph"
   ]
  },
  {
   "cell_type": "markdown",
   "id": "c1b9a858",
   "metadata": {},
   "source": [
    "**Q3. Create a list data type and store names of your friends in it (at least 5), check out what are methods available in list data type, try to figure out their working using help function in python.**"
   ]
  },
  {
   "cell_type": "code",
   "execution_count": 10,
   "id": "0b183862",
   "metadata": {},
   "outputs": [
    {
     "name": "stdout",
     "output_type": "stream",
     "text": [
      "['__add__', '__class__', '__class_getitem__', '__contains__', '__delattr__', '__delitem__', '__dir__', '__doc__', '__eq__', '__format__', '__ge__', '__getattribute__', '__getitem__', '__gt__', '__hash__', '__iadd__', '__imul__', '__init__', '__init_subclass__', '__iter__', '__le__', '__len__', '__lt__', '__mul__', '__ne__', '__new__', '__reduce__', '__reduce_ex__', '__repr__', '__reversed__', '__rmul__', '__setattr__', '__setitem__', '__sizeof__', '__str__', '__subclasshook__', 'append', 'clear', 'copy', 'count', 'extend', 'index', 'insert', 'pop', 'remove', 'reverse', 'sort']\n",
      "Help on NoneType object:\n",
      "\n",
      "class NoneType(object)\n",
      " |  Methods defined here:\n",
      " |  \n",
      " |  __bool__(self, /)\n",
      " |      True if self else False\n",
      " |  \n",
      " |  __repr__(self, /)\n",
      " |      Return repr(self).\n",
      " |  \n",
      " |  ----------------------------------------------------------------------\n",
      " |  Static methods defined here:\n",
      " |  \n",
      " |  __new__(*args, **kwargs) from builtins.type\n",
      " |      Create and return a new object.  See help(type) for accurate signature.\n",
      "\n"
     ]
    }
   ],
   "source": [
    "name = ['arpit', 'ayush', 'yuvraj', 'pranav','ambuj']\n",
    "print(dir(name))\n",
    "help(name.extend(['debasmita','oindrella']))"
   ]
  },
  {
   "cell_type": "markdown",
   "id": "db80fbaa",
   "metadata": {},
   "source": [
    "**Q4. What is difference between ordered data type and unordered data type?**\n",
    "\n",
    "**Ordered Data** types are sequential data types on which we can use indexing and slicing. Ex - list, tuple.\n",
    "\n",
    "**Unordered Data** types are non sequential and we can’t use indexing or slicing on them. Ex - set, dictionary."
   ]
  },
  {
   "cell_type": "markdown",
   "id": "022f127b",
   "metadata": {},
   "source": [
    "**Q5.Write down types of each value given? (In python)**\n",
    "\n",
    "1. 100  -->   ***Integer***\n",
    "2. 105.5  -->   ***Float***\n",
    "3. 192.56j  -->   ***Complex***\n",
    "4. 10+6j  -->   ***Complex***\n",
    "5. '10'  -->   ***String***\n",
    "6. 'Hello world'  -->   ***String***\n",
    "7. [ 10, 20, 50, 100]  -->   ***List***\n",
    "8. {'name': 'sachin','age': 24, 'language': 'python'}  -->   ***Dictionary***"
   ]
  }
 ],
 "metadata": {
  "kernelspec": {
   "display_name": "Python 3 (ipykernel)",
   "language": "python",
   "name": "python3"
  },
  "language_info": {
   "codemirror_mode": {
    "name": "ipython",
    "version": 3
   },
   "file_extension": ".py",
   "mimetype": "text/x-python",
   "name": "python",
   "nbconvert_exporter": "python",
   "pygments_lexer": "ipython3",
   "version": "3.10.9"
  }
 },
 "nbformat": 4,
 "nbformat_minor": 5
}
