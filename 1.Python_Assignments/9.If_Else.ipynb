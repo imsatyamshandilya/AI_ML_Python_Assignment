{
 "cells": [
  {
   "cell_type": "markdown",
   "id": "ee5411d6",
   "metadata": {},
   "source": [
    "## Task- 9. If Else"
   ]
  },
  {
   "cell_type": "markdown",
   "id": "868ff299",
   "metadata": {},
   "source": [
    "**Q1. Write a Python program to check whether a number is negative, positive or zero.**"
   ]
  },
  {
   "cell_type": "code",
   "execution_count": 13,
   "id": "aa6be2d9",
   "metadata": {},
   "outputs": [
    {
     "name": "stdout",
     "output_type": "stream",
     "text": [
      "Enter a number: 8\n",
      "8 is Positive Number\n"
     ]
    }
   ],
   "source": [
    "num=int(input(\"Enter a number: \"))\n",
    "if num>0:\n",
    "    print(f\"{num} is Positive Number\")\n",
    "elif num<0:\n",
    "    print(f\"{num} is Negative Number\")\n",
    "else:\n",
    "    print(\"The number is Zero\")"
   ]
  },
  {
   "cell_type": "markdown",
   "id": "e0ac94ff",
   "metadata": {},
   "source": [
    "**Q2. Write a Python program to check whether a number is divisible by 5 and 11 or not.**"
   ]
  },
  {
   "cell_type": "code",
   "execution_count": 16,
   "id": "f6134326",
   "metadata": {},
   "outputs": [
    {
     "name": "stdout",
     "output_type": "stream",
     "text": [
      "Enter a number: 880\n",
      "880 is divisible by 5 and 11\n"
     ]
    }
   ],
   "source": [
    "num=int(input(\"Enter a number: \"))\n",
    "if num%55==0:\n",
    "    print(f\"{num} is divisible by 5 and 11\")\n",
    "else:\n",
    "    print(f\"{num} is not divisible by 5 and 11\")"
   ]
  },
  {
   "cell_type": "markdown",
   "id": "d2dcc734",
   "metadata": {},
   "source": [
    "**Q3. Write a Python program to check whether a year is leap year or not.**"
   ]
  },
  {
   "cell_type": "code",
   "execution_count": 18,
   "id": "a84e2566",
   "metadata": {},
   "outputs": [
    {
     "name": "stdout",
     "output_type": "stream",
     "text": [
      "Enter a year: 2021\n",
      "2021 is not a leap year\n"
     ]
    }
   ],
   "source": [
    "num=int(input(\"Enter a year: \"))\n",
    "if num%100==0:\n",
    "    if num%4==0:\n",
    "        print(f'{num} is a leap year')\n",
    "    else:\n",
    "        print(f'{num} is not a leap year')\n",
    "elif num%4==0:\n",
    "    print(f'{num} is a leap year')\n",
    "else:\n",
    "    print(f\"{num} is not a leap year\")"
   ]
  },
  {
   "cell_type": "markdown",
   "id": "ee4a0f45",
   "metadata": {},
   "source": [
    "**Q4. Write a Python program to check whether a character is alphabet or not.**"
   ]
  },
  {
   "cell_type": "code",
   "execution_count": 38,
   "id": "13378cf1",
   "metadata": {},
   "outputs": [
    {
     "name": "stdout",
     "output_type": "stream",
     "text": [
      "Enter a Character: D\n",
      "D is an alphabet\n"
     ]
    }
   ],
   "source": [
    "print(\"Enter a Character: \", end = '')\n",
    "c = input()\n",
    "\n",
    "if c>='a' and c<='z':\n",
    "    print(f\"{c} is an alphabet\")\n",
    "elif c>='A' and c<='Z':\n",
    "    print(f\"{c} is an alphabet\")\n",
    "else:\n",
    "    print(f\"{c} is not an alphabet\")"
   ]
  },
  {
   "cell_type": "markdown",
   "id": "fc172458",
   "metadata": {},
   "source": [
    "**Q5. Write a Python program to input any alphabet and check whether it is vowel or consonant.**"
   ]
  },
  {
   "cell_type": "code",
   "execution_count": 32,
   "id": "bcc0819b",
   "metadata": {},
   "outputs": [
    {
     "name": "stdout",
     "output_type": "stream",
     "text": [
      "Input any alphabet: R\n",
      "R is a consonant.\n"
     ]
    }
   ],
   "source": [
    "c = input(\"Input any alphabet: \")\n",
    "\n",
    "if c in ('a', 'e', 'i', 'o', 'u'):\n",
    "    print(\"%s is a vowel.\" %c)\n",
    "else:\n",
    "    print(\"%s is a consonant.\" %c)"
   ]
  },
  {
   "cell_type": "markdown",
   "id": "f0317848",
   "metadata": {},
   "source": [
    "**Q6. Write a Python program to input any character and check whether it is alphabet, digit or special character.**"
   ]
  },
  {
   "cell_type": "code",
   "execution_count": 42,
   "id": "551a3729",
   "metadata": {},
   "outputs": [
    {
     "name": "stdout",
     "output_type": "stream",
     "text": [
      "Enter any Character : #\n",
      "# is a Special Character\n"
     ]
    }
   ],
   "source": [
    "ch = input(\"Enter any Character : \")\n",
    "\n",
    "if((ch >= 'a' and ch <= 'z') or (ch >= 'A' and ch <= 'Z')): \n",
    "    print(f\"{ch} is an Alphabet\") \n",
    "elif(ch >= '0' and ch <= '9'):\n",
    "    print(f\"{ch} is a Digit\")\n",
    "else:\n",
    "    print(f\"{ch} is a Special Character\")"
   ]
  },
  {
   "cell_type": "markdown",
   "id": "960469d2",
   "metadata": {},
   "source": [
    "**Q7. Write a Python program to check whether a character is uppercase or lowercase alphabet.**"
   ]
  },
  {
   "cell_type": "code",
   "execution_count": 48,
   "id": "dae27131",
   "metadata": {},
   "outputs": [
    {
     "name": "stdout",
     "output_type": "stream",
     "text": [
      "Enter any alphabet: W\n",
      "W is uppercase alphabet\n"
     ]
    }
   ],
   "source": [
    "ch=input(\"Enter any alphabet: \")\n",
    "if ch.isupper():\n",
    "    print(f'{ch} is uppercase alphabet')\n",
    "else:\n",
    "    print(f\"{ch} is lowercase alphabet\")"
   ]
  },
  {
   "cell_type": "markdown",
   "id": "0b87ff5c",
   "metadata": {},
   "source": [
    "**Q8. Write a Python program to input week number and print weekday.**"
   ]
  },
  {
   "cell_type": "code",
   "execution_count": 58,
   "id": "bf10ffd9",
   "metadata": {},
   "outputs": [
    {
     "name": "stdout",
     "output_type": "stream",
     "text": [
      "Enter Week Number: 3\n",
      "Wednesday\n"
     ]
    }
   ],
   "source": [
    "weekday = int(input(\"Enter Week Number: \"))\n",
    "\n",
    "if weekday == 1 :\n",
    "    print(\"Monday\");\n",
    "elif weekday == 2 :\n",
    "    print(\"Tuesday\")\n",
    "elif(weekday == 3) :\n",
    "    print(\"Wednesday\")\n",
    "elif(weekday == 4) :\n",
    "    print(\"Thursday\")\n",
    "elif(weekday == 5) :\n",
    "    print(\"Friday\")\n",
    "elif(weekday == 6) :\n",
    "    print(\"Saturday\")\n",
    "elif (weekday == 7) :\n",
    "    print(\"Sunday\")\n",
    "else :\n",
    "    print(\"Invalid Number\")"
   ]
  },
  {
   "cell_type": "markdown",
   "id": "e0258130",
   "metadata": {},
   "source": [
    "**Q9. Write a Python program to input angles of a triangle and check whether triangle is valid or not.**"
   ]
  },
  {
   "cell_type": "code",
   "execution_count": 65,
   "id": "ffe2626f",
   "metadata": {},
   "outputs": [
    {
     "name": "stdout",
     "output_type": "stream",
     "text": [
      "Enter 1st angle of triangle: 90\n",
      "Enter 2nd angle of triangle: 45\n",
      "Enter 3rd angle of triangle: 45\n",
      "\n",
      "It is a valid triangle\n"
     ]
    }
   ],
   "source": [
    "a=int(input('Enter 1st angle of triangle: '))\n",
    "b=int(input('Enter 2nd angle of triangle: '))\n",
    "c=int(input('Enter 3rd angle of triangle: '))\n",
    "if (a+b+c)==180:\n",
    "    print('\\nIt is a valid triangle')\n",
    "else:\n",
    "    print('\\nInvalid triangle')"
   ]
  },
  {
   "cell_type": "markdown",
   "id": "664639ea",
   "metadata": {},
   "source": [
    "**Q10. Write a Python program to input all sides of a triangle and check whether triangle is valid or not.**"
   ]
  },
  {
   "cell_type": "code",
   "execution_count": 63,
   "id": "1ddcc92b",
   "metadata": {},
   "outputs": [
    {
     "name": "stdout",
     "output_type": "stream",
     "text": [
      "Enter side length of triangle: 23\n",
      "Enter side length of triangle: 12\n",
      "Enter side length of triangle: 10\n",
      "\n",
      "It is a valid triangle\n"
     ]
    }
   ],
   "source": [
    "a=int(input('Enter side length of triangle: '))\n",
    "b=int(input('Enter side length of triangle: '))\n",
    "c=int(input('Enter side length of triangle: '))\n",
    "if a+b>c or b+c>a or c+a>b:\n",
    "    print('\\nIt is a valid triangle')\n",
    "else:\n",
    "    print('\\nInvalid triangle')"
   ]
  },
  {
   "cell_type": "markdown",
   "id": "142302ab",
   "metadata": {},
   "source": [
    "**Q11. Write a Python program to check whether the triangle is equilateral, isosceles or scalene triangle.**"
   ]
  },
  {
   "cell_type": "code",
   "execution_count": 64,
   "id": "aba032a1",
   "metadata": {},
   "outputs": [
    {
     "name": "stdout",
     "output_type": "stream",
     "text": [
      "Enter side length of triangle: 22\n",
      "Enter side length of triangle: 22\n",
      "Enter side length of triangle: 22\n",
      "\n",
      "It is an Equilateral triangle\n"
     ]
    }
   ],
   "source": [
    "a=int(input('Enter side length of triangle: '))\n",
    "b=int(input('Enter side length of triangle: '))\n",
    "c=int(input('Enter side length of triangle: '))\n",
    "if a==b==c:\n",
    "    print('\\nIt is an Equilateral triangle')\n",
    "elif a==b or b==c or c==a:\n",
    "    print('\\nIt is an Isoceles triangle')\n",
    "else:\n",
    "    print(\"\\nIt is a Scalene triangle\")"
   ]
  },
  {
   "cell_type": "markdown",
   "id": "27af6f8d",
   "metadata": {},
   "source": [
    "**Q12. Write a Python program to input marks of five subjects Physics, Chemistry, Biology, Mathematics and Computer. Calculate percentage and grade according to following:**\n",
    "\n",
    "    Percentage >= 90% : Grade A\n",
    "    Percentage >= 80% : Grade B \n",
    "    Percentage >= 70% : Grade C \n",
    "    Percentage >= 60% : Grade D \n",
    "    Percentage >= 40% : Grade E \n",
    "    Percentage < 40%  : Grade F"
   ]
  },
  {
   "cell_type": "code",
   "execution_count": 71,
   "id": "7627cba6",
   "metadata": {},
   "outputs": [
    {
     "name": "stdout",
     "output_type": "stream",
     "text": [
      "Enter Physics Marks: 34\n",
      "Enter Chemistry Marks: 45\n",
      "Enter Biology Marks: 67\n",
      "Enter Mathematics Marks: 89\n",
      "Enter Computer Marks: 90\n",
      "\n",
      "Average Mark=  64.8\n",
      "Grade D\n"
     ]
    }
   ],
   "source": [
    "sub1=int(input(\"Enter Physics Marks: \"))\n",
    "sub2=int(input(\"Enter Chemistry Marks: \"))\n",
    "sub3=int(input(\"Enter Biology Marks: \"))\n",
    "sub4=int(input(\"Enter Mathematics Marks: \"))\n",
    "sub5=int(input(\"Enter Computer Marks: \"))\n",
    "avg=(sub1+sub2+sub3+sub4+sub4)/5\n",
    "print(\"\\nAverage Mark= \", avg)\n",
    "if avg>=90:\n",
    "    print(\"Grade A\")\n",
    "elif avg>=80:\n",
    "    print(\"Grade B\")\n",
    "elif avg>=70:\n",
    "    print(\"Grade C\")\n",
    "elif avg>=60:\n",
    "    print(\"Grade D\")\n",
    "elif avg>=40:\n",
    "    print(\"Grade E\")\n",
    "else:\n",
    "    print(\"Grade F\")"
   ]
  },
  {
   "cell_type": "markdown",
   "id": "9cbb0d8c",
   "metadata": {},
   "source": [
    "**Q13. Write a Python program to input basic salary of an employee and calculate its Gross salary according to following:**\n",
    "\n",
    "    Basic Salary <= 10000 : HRA = 20%, DA = 80% \n",
    "    Basic Salary <= 20000 : HRA = 25%, DA = 90% \n",
    "    Basic Salary > 20000 : HRA = 30%, DA = 95%"
   ]
  },
  {
   "cell_type": "code",
   "execution_count": 74,
   "id": "a510d53d",
   "metadata": {},
   "outputs": [
    {
     "name": "stdout",
     "output_type": "stream",
     "text": [
      "Enter Basic salary: 100000\n",
      "Gross Salary=  230000.0\n"
     ]
    }
   ],
   "source": [
    "bs = int(input(\"Enter Basic salary: \"))\n",
    "if bs > 10000:\n",
    "   hra = .35 * bs\n",
    "   da = .95 * bs\n",
    "\n",
    "elif bs > 20000:\n",
    "   hra = .30 * bs\n",
    "   da = .90 * bs\n",
    "\n",
    "else:\n",
    "   hra = .25 * bs\n",
    "   da = .80 * bs\n",
    "\n",
    "gs = bs + hra + da\n",
    "\n",
    "print(\"Gross Salary= \",gs)"
   ]
  },
  {
   "cell_type": "markdown",
   "id": "4e7e0ef6",
   "metadata": {},
   "source": [
    "**Q14. Write a Python Program to input electricity unit charges and calculate total electricity bill according to the given condition:**\n",
    "\n",
    "    For first 50 units Rs. 0.50/unit\n",
    "    For next 100 units Rs. 0.75/unit\n",
    "    For next 100 units Rs. 1.20/unit\n",
    "    For unit above 250 Rs. 1.50/unit\n",
    "    An additional surcharge of 20% is added to the bill"
   ]
  },
  {
   "cell_type": "code",
   "execution_count": 78,
   "id": "3380f8e8",
   "metadata": {},
   "outputs": [
    {
     "name": "stdout",
     "output_type": "stream",
     "text": [
      "Enter unit charges: 99\n",
      "Bill:  74.1\n"
     ]
    }
   ],
   "source": [
    "unit=int(input('Enter unit charges: '))\n",
    "if unit<=50:\n",
    "    bill=unit*0.5\n",
    "elif unit<=150:\n",
    "    bill=50*0.5+(unit-50)*0.75\n",
    "elif unit<=250:\n",
    "    bill=50*0.5+100*0.75+(unit-150)*1.20\n",
    "else:\n",
    "    bill=50*0.5+100*0.75+100*1.20+(unit-250)*1.50\n",
    "print(\"Bill: \",bill*1.20)"
   ]
  }
 ],
 "metadata": {
  "kernelspec": {
   "display_name": "Python 3 (ipykernel)",
   "language": "python",
   "name": "python3"
  },
  "language_info": {
   "codemirror_mode": {
    "name": "ipython",
    "version": 3
   },
   "file_extension": ".py",
   "mimetype": "text/x-python",
   "name": "python",
   "nbconvert_exporter": "python",
   "pygments_lexer": "ipython3",
   "version": "3.10.9"
  }
 },
 "nbformat": 4,
 "nbformat_minor": 5
}
